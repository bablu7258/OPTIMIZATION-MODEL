{
 "cells": [
  {
   "cell_type": "code",
   "execution_count": null,
   "id": "5b23939d",
   "metadata": {},
   "outputs": [],
   "source": [
    "!pip install \"numpy<2.0\""
   ]
  },
  {
   "cell_type": "code",
   "execution_count": 2,
   "id": "883ebb58",
   "metadata": {},
   "outputs": [
    {
     "name": "stdout",
     "output_type": "stream",
     "text": [
      "Defaulting to user installation because normal site-packages is not writeable\n",
      "Requirement already satisfied: pandas in c:\\users\\deeks\\appdata\\roaming\\python\\python311\\site-packages (2.2.3)\n",
      "Requirement already satisfied: bottleneck in c:\\programdata\\anaconda3\\lib\\site-packages (1.3.5)\n",
      "Collecting bottleneck\n",
      "  Downloading Bottleneck-1.4.2-cp311-cp311-win_amd64.whl.metadata (7.9 kB)\n",
      "Requirement already satisfied: numpy>=1.23.2 in c:\\users\\deeks\\appdata\\roaming\\python\\python311\\site-packages (from pandas) (1.26.4)\n",
      "Requirement already satisfied: python-dateutil>=2.8.2 in c:\\users\\deeks\\appdata\\roaming\\python\\python311\\site-packages (from pandas) (2.8.2)\n",
      "Requirement already satisfied: pytz>=2020.1 in c:\\users\\deeks\\appdata\\roaming\\python\\python311\\site-packages (from pandas) (2025.1)\n",
      "Requirement already satisfied: tzdata>=2022.7 in c:\\users\\deeks\\appdata\\roaming\\python\\python311\\site-packages (from pandas) (2025.1)\n",
      "Requirement already satisfied: six>=1.5 in c:\\users\\deeks\\appdata\\roaming\\python\\python311\\site-packages (from python-dateutil>=2.8.2->pandas) (1.16.0)\n",
      "Downloading Bottleneck-1.4.2-cp311-cp311-win_amd64.whl (111 kB)\n",
      "   ---------------------------------------- 0.0/111.6 kB ? eta -:--:--\n",
      "   ---------------------------------------- 0.0/111.6 kB ? eta -:--:--\n",
      "   -------------- ------------------------ 41.0/111.6 kB 991.0 kB/s eta 0:00:01\n",
      "   -------------- ------------------------ 41.0/111.6 kB 991.0 kB/s eta 0:00:01\n",
      "   ------------------------- ------------- 71.7/111.6 kB 563.7 kB/s eta 0:00:01\n",
      "   -------------------------------- ------ 92.2/111.6 kB 525.1 kB/s eta 0:00:01\n",
      "   -------------------------------------- 111.6/111.6 kB 465.0 kB/s eta 0:00:00\n",
      "Installing collected packages: bottleneck\n",
      "Successfully installed bottleneck-1.4.2\n"
     ]
    },
    {
     "name": "stderr",
     "output_type": "stream",
     "text": [
      "\n",
      "[notice] A new release of pip is available: 23.3.2 -> 25.0.1\n",
      "[notice] To update, run: python.exe -m pip install --upgrade pip\n"
     ]
    }
   ],
   "source": [
    "!pip install --upgrade pandas bottleneck"
   ]
  },
  {
   "cell_type": "code",
   "execution_count": null,
   "id": "836fbe2a",
   "metadata": {},
   "outputs": [],
   "source": []
  },
  {
   "cell_type": "code",
   "execution_count": 3,
   "id": "e8db064a",
   "metadata": {},
   "outputs": [
    {
     "name": "stdout",
     "output_type": "stream",
     "text": [
      "Defaulting to user installation because normal site-packages is not writeable\n",
      "Requirement already satisfied: pulp in c:\\users\\deeks\\appdata\\roaming\\python\\python311\\site-packages (3.0.2)\n"
     ]
    },
    {
     "name": "stderr",
     "output_type": "stream",
     "text": [
      "\n",
      "[notice] A new release of pip is available: 23.3.2 -> 25.0.1\n",
      "[notice] To update, run: python.exe -m pip install --upgrade pip\n"
     ]
    },
    {
     "name": "stdout",
     "output_type": "stream",
     "text": [
      "Defaulting to user installation because normal site-packages is not writeable\n",
      "Requirement already satisfied: pandas in c:\\users\\deeks\\appdata\\roaming\\python\\python311\\site-packages (2.2.3)\n",
      "Requirement already satisfied: numpy>=1.23.2 in c:\\users\\deeks\\appdata\\roaming\\python\\python311\\site-packages (from pandas) (1.26.4)\n",
      "Requirement already satisfied: python-dateutil>=2.8.2 in c:\\users\\deeks\\appdata\\roaming\\python\\python311\\site-packages (from pandas) (2.8.2)\n",
      "Requirement already satisfied: pytz>=2020.1 in c:\\users\\deeks\\appdata\\roaming\\python\\python311\\site-packages (from pandas) (2025.1)\n",
      "Requirement already satisfied: tzdata>=2022.7 in c:\\users\\deeks\\appdata\\roaming\\python\\python311\\site-packages (from pandas) (2025.1)\n",
      "Requirement already satisfied: six>=1.5 in c:\\users\\deeks\\appdata\\roaming\\python\\python311\\site-packages (from python-dateutil>=2.8.2->pandas) (1.16.0)\n",
      "Optimization Status: Optimal\n",
      "Total Cost: 3100.0\n",
      "  Warehouse Customer  Units Shipped\n",
      "0        W1       C1          100.0\n",
      "1        W1       C2            0.0\n",
      "2        W1       C3          400.0\n",
      "3        W2       C1            0.0\n",
      "4        W2       C2            0.0\n",
      "5        W2       C3          200.0\n",
      "6        W3       C1          300.0\n",
      "7        W3       C2          500.0\n",
      "8        W3       C3            0.0\n"
     ]
    },
    {
     "name": "stderr",
     "output_type": "stream",
     "text": [
      "\n",
      "[notice] A new release of pip is available: 23.3.2 -> 25.0.1\n",
      "[notice] To update, run: python.exe -m pip install --upgrade pip\n"
     ]
    }
   ],
   "source": [
    "!pip install pulp\n",
    "!pip install pandas\n",
    "import pulp\n",
    "import pandas as pd\n",
    "model = pulp.LpProblem(\"Supply_Chain_Optimization\", pulp.LpMinimize)\n",
    "warehouses = ['W1', 'W2', 'W3']\n",
    "customers = ['C1', 'C2', 'C3']\n",
    "supply = {\n",
    "    'W1': 500,\n",
    "    'W2': 600,\n",
    "    'W3': 800\n",
    "}\n",
    "\n",
    "demand = {\n",
    "    'C1': 400,\n",
    "    'C2': 500,\n",
    "    'C3': 600\n",
    "}\n",
    "\n",
    "costs = {\n",
    "    ('W1', 'C1'): 2, ('W1', 'C2'): 3, ('W1', 'C3'): 1,\n",
    "    ('W2', 'C1'): 5, ('W2', 'C2'): 4, ('W2', 'C3'): 3,\n",
    "    ('W3', 'C1'): 3, ('W3', 'C2'): 2, ('W3', 'C3'): 4\n",
    "}\n",
    "\n",
    "x = pulp.LpVariable.dicts(\"Ship\", costs.keys(), lowBound=0, cat='Continuous')\n",
    "\n",
    "model += pulp.lpSum(x[w, c] * costs[w, c] for w, c in costs), \"Total_Transportation_Cost\"\n",
    "\n",
    "for w in warehouses:\n",
    "    model += pulp.lpSum(x[w, c] for c in customers) <= supply[w], f\"Supply_Constraint_{w}\"\n",
    "\n",
    "for c in customers:\n",
    "    model += pulp.lpSum(x[w, c] for w in warehouses) >= demand[c], f\"Demand_Constraint_{c}\"\n",
    "\n",
    "model.solve()\n",
    "\n",
    "print(\"Optimization Status:\", pulp.LpStatus[model.status])\n",
    "print(\"Total Cost:\", pulp.value(model.objective))\n",
    "\n",
    "data = []\n",
    "for (w, c) in costs:\n",
    "    quantity = x[w, c].varValue\n",
    "    data.append([w, c, quantity])\n",
    "\n",
    "df_result = pd.DataFrame(data, columns=[\"Warehouse\", \"Customer\", \"Units Shipped\"])\n",
    "print(df_result)"
   ]
  }
 ],
 "metadata": {
  "kernelspec": {
   "display_name": "Python 3 (ipykernel)",
   "language": "python",
   "name": "python3"
  },
  "language_info": {
   "codemirror_mode": {
    "name": "ipython",
    "version": 3
   },
   "file_extension": ".py",
   "mimetype": "text/x-python",
   "name": "python",
   "nbconvert_exporter": "python",
   "pygments_lexer": "ipython3",
   "version": "3.11.4"
  }
 },
 "nbformat": 4,
 "nbformat_minor": 5
}
